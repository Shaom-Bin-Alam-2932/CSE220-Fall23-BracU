{
  "nbformat": 4,
  "nbformat_minor": 0,
  "metadata": {
    "colab": {
      "provenance": []
    },
    "kernelspec": {
      "name": "python3",
      "display_name": "Python 3"
    },
    "language_info": {
      "name": "python"
    }
  },
  "cells": [
    {
      "cell_type": "code",
      "source": [
        "import numpy as np"
      ],
      "metadata": {
        "id": "pi_n0okZ1v_O"
      },
      "execution_count": 19,
      "outputs": []
    },
    {
      "cell_type": "markdown",
      "source": [
        "**Instructions to Follow (Failing to follow these will result mark deductions).**\n",
        "\n",
        "\n",
        "1.   You can not use any built-in function except len()\n",
        "2.   You can not use any other python collections except array (e.g: tuptle, dictionaries etc.).\n",
        "3. We will initialize a new array using numpy library. We have to mention the fixed size during initialization. There might be two approach.\n",
        "\n",
        "  i. arr = np.array([None] * 10) #Initializing an array length 10 with values None.\n",
        "\n",
        "  ii. arr = np.array([10, 20, 30, 40]) #Initializing an array length 4 with the values.\n",
        "4. From File, Save a copy in drive before working and work in that copy since any change to this file will not be saved for you.\n",
        "\n",
        "\n",
        "\n",
        "\n"
      ],
      "metadata": {
        "id": "lJl5kEU9s6VF"
      }
    },
    {
      "cell_type": "code",
      "execution_count": 20,
      "metadata": {
        "id": "nAE3YxgdLMa1",
        "colab": {
          "base_uri": "https://localhost:8080/"
        },
        "outputId": "baf728aa-6403-4a4b-e5dd-27d8283aa364"
      },
      "outputs": [
        {
          "output_type": "stream",
          "name": "stdout",
          "text": [
            "Requirement already satisfied: fhm-unittest in /usr/local/lib/python3.10/dist-packages (1.0.1)\n",
            "Requirement already satisfied: fuzzywuzzy in /usr/local/lib/python3.10/dist-packages (0.18.0)\n"
          ]
        }
      ],
      "source": [
        "# You must run this cell to install dependency\n",
        "! pip3 install fhm-unittest\n",
        "! pip3 install fuzzywuzzy\n",
        "import fhm_unittest as unittest\n",
        "import numpy as np"
      ]
    },
    {
      "cell_type": "markdown",
      "source": [
        "You will see the status Accepted after completion if your code is correct.\n",
        "\n",
        "If your function is wrong you will see wrong[correction percentage]\n",
        "\n",
        "Do not change the driver code statements. You can only change the input values to test your code."
      ],
      "metadata": {
        "id": "rFXn6m1mbHYC"
      }
    },
    {
      "cell_type": "code",
      "source": [
        "# Test 01: Play Right\n",
        "\n",
        "def playRight(sequence, beats):\n",
        "  for i in beats:\n",
        "    if i == 1:\n",
        "      temp = sequence[len(sequence)-1]\n",
        "      for i in range (len(sequence)-2,-1,-1):\n",
        "         sequence[i+1] = sequence[i]\n",
        "      sequence[0] = temp\n",
        "    else:\n",
        "      pass\n",
        "\n",
        "  return sequence\n",
        "\n",
        "\n",
        "print(\"///  Test 01: Play Right  ///\")\n",
        "sequence = np.array([10, 20, 30, 40, 50, 60])\n",
        "beats = np.array([1, 0, 0, 1, 0, 1])\n",
        "returned_value = playRight(sequence, beats)\n",
        "print(f'Task 1: {returned_value}')  # This should print [40, 50, 60, 10, 20, 30]"
      ],
      "metadata": {
        "id": "hzdDNKdRahbQ",
        "colab": {
          "base_uri": "https://localhost:8080/"
        },
        "outputId": "804f9fe3-95f3-41be-9866-94dc0624b6f8"
      },
      "execution_count": 37,
      "outputs": [
        {
          "output_type": "stream",
          "name": "stdout",
          "text": [
            "///  Test 01: Play Right  ///\n",
            "Task 1: [40 50 60 10 20 30]\n"
          ]
        }
      ]
    },
    {
      "cell_type": "code",
      "source": [
        "# Test 02: Discard Cards\n",
        "\n",
        "def discardCards(cards,number):\n",
        "    result = np.zeros_like(cards)\n",
        "    index = 0\n",
        "\n",
        "    for card in cards:\n",
        "        if card != number:\n",
        "            result[index] = card\n",
        "            index += 1\n",
        "\n",
        "    return result\n",
        "\n",
        "\n",
        "print(\"///  Test 02: Discard Cards  ///\")\n",
        "cards = np.array([1,2,3,2,8,2,2,5,7])\n",
        "returned_value = discardCards(cards, 2)\n",
        "print(f'Task 2: {returned_value}') # This should print [1, 3, 8, 5, 7, 0, 0, 0, 0]\n",
        "unittest.output_test(returned_value, np.array([1, 3, 8, 5, 7, 0, 0, 0, 0]))"
      ],
      "metadata": {
        "id": "Ag1wNuXgaoh4",
        "colab": {
          "base_uri": "https://localhost:8080/"
        },
        "outputId": "b3038a29-9be9-4f3b-965f-652f8318da86"
      },
      "execution_count": 25,
      "outputs": [
        {
          "output_type": "stream",
          "name": "stdout",
          "text": [
            "///  Test 02: Discard Cards  ///\n",
            "Task 2: [1 3 8 5 7 0 0 0 0]\n",
            "Accepted\n"
          ]
        }
      ]
    },
    {
      "cell_type": "code",
      "source": [
        "#Test 03: Merge Lineup\n",
        "\n",
        "def mergeLineup(pokemon_1, pokemon_2):\n",
        "  result = [None]*len(pokemon_1) #this array stores the resulting array\n",
        "  count = len(pokemon_2) - 1\n",
        "\n",
        "  for i in range(len(pokemon_1)):\n",
        "    if pokemon_1[i] == None:\n",
        "      pokemon_1[i] = 0\n",
        "    if pokemon_2[count] == None:\n",
        "      pokemon_2[count] = 0\n",
        "    count -= 1\n",
        "\n",
        "  for i in range(len(pokemon_1)):\n",
        "    result[i] = pokemon_1[i] + pokemon_2[count - i]\n",
        "\n",
        "  return np.array(result)\n",
        "\n",
        "\n",
        "print(\"///  Test 03: Merge Lineup  ///\")\n",
        "pokemon_1 = np.array([12, 3, 25, 1, None])\n",
        "pokemon_2 = np.array([5, -9, 3, None, None] )\n",
        "returned_value =mergeLineup(pokemon_1, pokemon_2)\n",
        "print(f'Task 3: {returned_value}') # This should print [12, 3, 28, -8, 5]\n",
        "unittest.output_test(returned_value, np.array([12, 3, 28, -8, 5]))\n",
        "\n",
        "pokemon_1 = np.array([4, 5, -1, None, None])\n",
        "pokemon_2 = np.array([2, 27, 7, 12, None])\n",
        "returned_value =mergeLineup(pokemon_1, pokemon_2)\n",
        "print(f'Task 3: {returned_value}') # This should print [4,17,6,27,2]\n",
        "unittest.output_test(returned_value, np.array([4,17,6,27,2]))"
      ],
      "metadata": {
        "id": "Ene8Dp4vasuN",
        "colab": {
          "base_uri": "https://localhost:8080/"
        },
        "outputId": "fd6a2a31-f1f6-4252-9d0a-bb0a79207f7f"
      },
      "execution_count": 38,
      "outputs": [
        {
          "output_type": "stream",
          "name": "stdout",
          "text": [
            "///  Test 03: Merge Lineup  ///\n",
            "Task 3: [12  3 28 -8  5]\n",
            "Accepted\n",
            "Task 3: [ 4 17  6 27  2]\n",
            "Accepted\n"
          ]
        }
      ]
    },
    {
      "cell_type": "code",
      "source": [
        "# Test 04: Balance your Salami\n",
        "\n",
        "def balanceSalami(salami):\n",
        "    size = len(salami)\n",
        "    temp_1 = 0\n",
        "\n",
        "    while temp_1 <= size-1:\n",
        "\n",
        "        sum_1 =  0\n",
        "        sum_2 = 0\n",
        "        temp_1 += 1\n",
        "\n",
        "\n",
        "        for i in range(size-temp_1):\n",
        "            sum_1 += salami[i]\n",
        "\n",
        "        for j in range(size-1,size-temp_1 -1,-1):\n",
        "            sum_2 += salami[j]\n",
        "\n",
        "        if sum_1 == sum_2:\n",
        "\n",
        "            result= True\n",
        "            return result\n",
        "\n",
        "        else:\n",
        "          result = False\n",
        "\n",
        "\n",
        "    return result\n",
        "\n",
        "\n",
        "print(\"///  Test 04: Balance Your Salami  ///\")\n",
        "salami = np.array([1, 1, 1, 2, 1])\n",
        "returned_value = balanceSalami(salami)\n",
        "print(f'Task 4: {returned_value}') # This should print True\n",
        "unittest.output_test(returned_value, True)\n",
        "\n",
        "salami = [2, 1, 1, 2, 1]\n",
        "returned_value = np.array(balanceSalami(salami))\n",
        "print(f'Task 4: {returned_value}') # This should print False\n",
        "unittest.output_test(returned_value, False)\n",
        "\n",
        "salami = [10, 3, 1, 2, 10]\n",
        "returned_value =  np.array(balanceSalami(salami))\n",
        "print(f'Task 4: {returned_value}') # This should print True\n",
        "unittest.output_test(returned_value, True)"
      ],
      "metadata": {
        "id": "ox9p5qL7axD8",
        "colab": {
          "base_uri": "https://localhost:8080/"
        },
        "outputId": "06631cc0-f87d-4745-c378-8baa63a97240"
      },
      "execution_count": 32,
      "outputs": [
        {
          "output_type": "stream",
          "name": "stdout",
          "text": [
            "///  Test 04: Balance Your Salami  ///\n",
            "Task 4: True\n",
            "Accepted\n",
            "Task 4: False\n",
            "Accepted\n",
            "Task 4: True\n",
            "Accepted\n"
          ]
        }
      ]
    },
    {
      "cell_type": "code",
      "source": [
        "# Test 05: Protecc Salami\n",
        "\n",
        "def protectSalami(salami):\n",
        "    size = len(salami)\n",
        "    for i in range(size):\n",
        "        for j in range(i + 1, size):\n",
        "            if salami[i] == salami[j]:\n",
        "                return True\n",
        "    return False\n",
        "\n",
        "\n",
        "print(\"///  Test 05: Protecc Salami  ///\")\n",
        "salami = np.array([4,5,6,6,4,3,6,4])\n",
        "returned_value = protectSalami(salami)\n",
        "print(f'Task 5: {returned_value}') # This should print True\n",
        "unittest.output_test(returned_value, True)\n",
        "\n",
        "salami = np.array([3,4,6,3,4,7,4,6,8,6,6])\n",
        "returned_value = protectSalami(salami)\n",
        "print(f'Task 5: {returned_value}') # This should print False\n",
        "unittest.output_test(returned_value, False)"
      ],
      "metadata": {
        "id": "JGIYYUIza-st",
        "colab": {
          "base_uri": "https://localhost:8080/"
        },
        "outputId": "8a178052-b204-475e-d6cb-3e5787794ba5"
      },
      "execution_count": 29,
      "outputs": [
        {
          "output_type": "stream",
          "name": "stdout",
          "text": [
            "///  Test 05: Protecc Salami  ///\n",
            "Task 5: True\n",
            "Accepted\n",
            "Task 5: True\n",
            "Wrong Answer [Your output: True  |  Expected Output: False]\n"
          ]
        }
      ]
    },
    {
      "cell_type": "markdown",
      "source": [
        "BONUS TASK (Ungraded)"
      ],
      "metadata": {
        "id": "_6RT_GOabsDF"
      }
    },
    {
      "cell_type": "code",
      "source": [
        "# Test 06: Odd Even Wave\n",
        "\n",
        "def waveYourFlag(arr):\n",
        "  size = len(arr)\n",
        "  arr_1 = ([0]*size)\n",
        "\n",
        "\n",
        "  if arr[0] % 2 == 0:\n",
        "    even = 0\n",
        "    odd = 1\n",
        "    for i in range(size):\n",
        "      if arr[i] % 2 == 0:\n",
        "        arr_1[even] = arr[i]\n",
        "        even += 2\n",
        "      else:\n",
        "        arr_1[odd] = arr[i]\n",
        "        odd += 2\n",
        "  else:\n",
        "    even = 1\n",
        "    odd = 0\n",
        "    for i in range(size):\n",
        "      if arr[i] % 2 != 0:\n",
        "        arr_1[odd] = arr[i]\n",
        "        odd += 2\n",
        "      else:\n",
        "        arr_1[even] = arr[i]\n",
        "        even += 2\n",
        "  return np.array(arr_1)\n",
        "\n",
        "\n",
        "print(\"///  Test 06: Odd Even Wave  ///\")\n",
        "arr = np.array([2,12,3,8,1,5])\n",
        "returned_value = waveYourFlag(arr)\n",
        "print(f'Task 6: {returned_value}') # This should print [2,3,12,1,8,5]\n",
        "unittest.output_test(returned_value, np.array([2,3,12,1,8,5]))\n",
        "\n",
        "arr = np.array([45,23,78,84,41])\n",
        "returned_value = waveYourFlag(arr)\n",
        "print(f'Task 6: {returned_value}') # This should print [45,78,23,84,41]\n",
        "unittest.output_test(returned_value, np.array([45,78,23,84,41]))"
      ],
      "metadata": {
        "id": "mrxIQ5rBhzPj",
        "colab": {
          "base_uri": "https://localhost:8080/"
        },
        "outputId": "c471ed8c-e1b4-4310-dc0d-a08bcd56b84a"
      },
      "execution_count": 31,
      "outputs": [
        {
          "output_type": "stream",
          "name": "stdout",
          "text": [
            "///  Test 06: Odd Even Wave  ///\n",
            "Task 6: [ 2  3 12  1  8  5]\n",
            "Accepted\n",
            "Task 6: [45 78 23 84 41]\n",
            "Accepted\n"
          ]
        }
      ]
    },
    {
      "cell_type": "markdown",
      "source": [
        "**Part : 2**"
      ],
      "metadata": {
        "id": "fQJiBcGkSl_J"
      }
    },
    {
      "cell_type": "code",
      "source": [
        "def cal_mean(arr):\n",
        "  sum = 0\n",
        "  for i in range(len(arr)):\n",
        "    sum += arr[i]\n",
        "  mean = sum / len(arr)\n",
        "  return mean\n",
        "\n",
        "def cal_std(arr):\n",
        "  d_sum = 0\n",
        "  x = cal_mean(arr)\n",
        "  for i in range(len(arr)):\n",
        "    d = x - arr[i]\n",
        "    d_sum += d**2\n",
        "  std = (d_sum / (len(arr)-1))**0.5\n",
        "  return std\n",
        "\n",
        "def d_arr(arr):\n",
        "  x = cal_mean(arr)\n",
        "  sd = cal_std(arr)\n",
        "  count = 0\n",
        "  for i in range(len(arr)):\n",
        "    if ((arr[i] - x)**2)**0.5 > 1.5 * sd:\n",
        "      count += 1\n",
        "  if count == 0:\n",
        "    return None\n",
        "  else:\n",
        "    a = [0] * count\n",
        "    j = 0\n",
        "    for i in range(len(arr)):\n",
        "      if ((arr[i] - x)**2)**0.5 > 1.5 * sd:\n",
        "        a[j] = arr[i]\n",
        "        j += 1\n",
        "  return a\n",
        "\n",
        "\n",
        "array = [10, 8, 13, 9, 14, 25, -5, 20, 7, 7, 4]\n",
        "print(\"The mean of the number is: \",cal_mean(array))\n",
        "print(\"The standard deviation is: \",cal_std(array))\n",
        "print(\"New Array: \",d_arr(array))"
      ],
      "metadata": {
        "colab": {
          "base_uri": "https://localhost:8080/"
        },
        "id": "VLeEjH7OTMNd",
        "outputId": "af30dc39-7c39-4802-a8c5-98bbe81021e0"
      },
      "execution_count": 36,
      "outputs": [
        {
          "output_type": "stream",
          "name": "stdout",
          "text": [
            "The mean of the number is:  10.181818181818182\n",
            "The standard deviation is:  7.960127911260996\n",
            "New Array:  [25, -5]\n"
          ]
        }
      ]
    }
  ]
}