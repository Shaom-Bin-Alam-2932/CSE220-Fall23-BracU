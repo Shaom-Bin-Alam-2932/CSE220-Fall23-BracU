{
  "cells": [
    {
      "cell_type": "code",
      "execution_count": 22,
      "metadata": {
        "id": "D6vC520OPeTa"
      },
      "outputs": [],
      "source": [
        "class BTNode:\n",
        "  def __init__(self, elem):\n",
        "    self.elem = elem\n",
        "    self.right = None\n",
        "    self.left = None"
      ]
    },
    {
      "cell_type": "code",
      "execution_count": 23,
      "metadata": {
        "id": "UDTKlm4-PfNM"
      },
      "outputs": [],
      "source": [
        "def inorder(root):\n",
        "  if root == None:\n",
        "    return\n",
        "\n",
        "  inorder(root.left)\n",
        "  print(root.elem, end = ' ')\n",
        "  inorder(root.right)"
      ]
    },
    {
      "cell_type": "code",
      "execution_count": 24,
      "metadata": {
        "colab": {
          "base_uri": "https://localhost:8080/"
        },
        "id": "Rtc22SPzPgzM",
        "outputId": "4a82a821-54c0-41f3-808c-fbe47b237b93"
      },
      "outputs": [
        {
          "output_type": "stream",
          "name": "stdout",
          "text": [
            "H D B E A I F J C G k "
          ]
        }
      ],
      "source": [
        "def tree_construction(arr, i = 1):\n",
        "  if i>=len(arr) or arr[i] == None:\n",
        "    return None\n",
        "  p = BTNode(arr[i])\n",
        "  p.left = tree_construction(arr, 2*i)\n",
        "  p.right = tree_construction(arr, 2*i+1)\n",
        "  return p\n",
        "\n",
        "\n",
        "root2 = tree_construction([None, 'A', 'B', 'C', 'D', 'E', 'F', 'G', 'H', None, None, None, 'I', 'J', None, 'k'])\n",
        "inorder(root2)"
      ]
    },
    {
      "cell_type": "markdown",
      "metadata": {
        "id": "S2nNCJNhPqGq"
      },
      "source": [
        "Task 1"
      ]
    },
    {
      "cell_type": "code",
      "execution_count": 25,
      "metadata": {
        "id": "zbBHU3FoPieb",
        "colab": {
          "base_uri": "https://localhost:8080/"
        },
        "outputId": "6b4fb09e-724b-4985-feda-36745f74d249"
      },
      "outputs": [
        {
          "output_type": "stream",
          "name": "stdout",
          "text": [
            "Given Tree Inorder Traversal:  40 20 60 10 30 \n",
            "Mirrored Tree Inorder Traversal:  30 10 60 20 40 "
          ]
        }
      ],
      "source": [
        "def convert_mirror(root):\n",
        "  if root is None:\n",
        "    return None\n",
        "  root.left, root.right = root.right, root.left\n",
        "  convert_mirror(root.left)\n",
        "  convert_mirror(root.right)\n",
        "  return root\n",
        "\n",
        "def inorder(root):\n",
        "  if root == None:\n",
        "    return\n",
        "  inorder(root.left)\n",
        "  print(root.elem, end = ' ')\n",
        "  inorder(root.right)\n",
        "\n",
        "#DRIVER CODE\n",
        "root = BTNode(10)\n",
        "n1 = BTNode(20)\n",
        "n2 = BTNode(30)\n",
        "n3 = BTNode(40)\n",
        "n4 = BTNode(60)\n",
        "\n",
        "root.left = n1\n",
        "root.right = n2\n",
        "\n",
        "n1.left = n3\n",
        "n1.right = n4\n",
        "\n",
        "print('Given Tree Inorder Traversal: ', end = ' ')\n",
        "inorder(root) #Given Tree Inorder Traversal:  40 20 60 10 30\n",
        "print()\n",
        "\n",
        "root2 = convert_mirror(root)\n",
        "print('Mirrored Tree Inorder Traversal: ', end = ' ')\n",
        "inorder(root2) #Mirrored Tree Inorder Traversal:  30 10 60 20 40"
      ]
    },
    {
      "cell_type": "markdown",
      "metadata": {
        "id": "c-TBf3m0PrtK"
      },
      "source": [
        "Task 2"
      ]
    },
    {
      "cell_type": "code",
      "execution_count": 26,
      "metadata": {
        "id": "lsuxinlBPmji",
        "colab": {
          "base_uri": "https://localhost:8080/"
        },
        "outputId": "aa33a7a5-819f-4b44-aada-a38de6a649ad"
      },
      "outputs": [
        {
          "output_type": "stream",
          "name": "stdout",
          "text": [
            "Given Tree Inorder Traversal:  3 9 -5 4 2 7 \n",
            "Level Wise Smallest Value:  {0: 4, 1: 2, 2: -5}\n"
          ]
        }
      ],
      "source": [
        "def smallest_level(root):\n",
        "  return Levelsmallvalue(root)\n",
        "\n",
        "def Levelsmallvalue(root, level={}, key=0):\n",
        "  if root == None:\n",
        "    return level\n",
        "  elif (key not in level) or (root.elem < level[key]):\n",
        "    level[key]=root.elem\n",
        "\n",
        "  levelleft = Levelsmallvalue(root.left, level, key+1)\n",
        "  levelright = Levelsmallvalue(root.right, level, key+1)\n",
        "  return level\n",
        "\n",
        "#DRIVER CODE\n",
        "root = tree_construction([None, 4,9,2,3,-5,None,7])\n",
        "print('Given Tree Inorder Traversal: ', end = ' ')\n",
        "inorder(root) #Given Tree Inorder Traversal:  3 9 5 4 2 7\n",
        "print()\n",
        "print('Level Wise Smallest Value: ', end = ' ')\n",
        "print(smallest_level(root)) #Level Wise Smallest Value:  {0: 4, 1: 2, 2: -5}"
      ]
    },
    {
      "cell_type": "markdown",
      "metadata": {
        "id": "7r3lH3aWPz2d"
      },
      "source": [
        "Task 3"
      ]
    },
    {
      "cell_type": "code",
      "execution_count": 27,
      "metadata": {
        "id": "zFwP64v4Pu6d",
        "colab": {
          "base_uri": "https://localhost:8080/"
        },
        "outputId": "64ca2bb4-50e1-4fa5-80db-b0a508fc88ff"
      },
      "outputs": [
        {
          "output_type": "stream",
          "name": "stdout",
          "text": [
            "Given Tree Inorder Traversal:  4 8 10 12 14 20 22 \n",
            "Inorder predecessor of node 20: 14\n"
          ]
        }
      ],
      "source": [
        "def maximum(root):\n",
        "  if root.right==None:\n",
        "    return root\n",
        "  return maximum(root.right)\n",
        "\n",
        "def inorder_predecessor(root, x):\n",
        "  return maximum(x.left)\n",
        "\n",
        "#DRIVER CODE\n",
        "root = BTNode(20)\n",
        "n1 = BTNode(8)\n",
        "n2 = BTNode(22)\n",
        "n3 = BTNode(4)\n",
        "n4 = BTNode(12)\n",
        "n5 = BTNode(10)\n",
        "n6 = BTNode(14)\n",
        "\n",
        "root.left = n1\n",
        "root.right = n2\n",
        "\n",
        "n1.left = n3\n",
        "n1.right = n4\n",
        "\n",
        "n4.left = n5\n",
        "n4.right = n6\n",
        "\n",
        "print('Given Tree Inorder Traversal: ', end = ' ')\n",
        "inorder(root) #Given Tree Inorder Traversal:  4 8 10 12 14 20 22\n",
        "print()\n",
        "\n",
        "x = root\n",
        "print(f'Inorder predecessor of node {x.elem}: {inorder_predecessor(root, x).elem}') #Inorder predecessor of node 20: 14"
      ]
    },
    {
      "cell_type": "markdown",
      "metadata": {
        "id": "t3IGW4OaP8Vy"
      },
      "source": [
        "Task 4"
      ]
    },
    {
      "cell_type": "code",
      "execution_count": 28,
      "metadata": {
        "id": "d1A-tR7hP2fI",
        "colab": {
          "base_uri": "https://localhost:8080/"
        },
        "outputId": "cba55db4-8f4a-4b1b-e474-488a54e0181b"
      },
      "outputs": [
        {
          "output_type": "stream",
          "name": "stdout",
          "text": [
            "10\n",
            "15\n",
            "20\n",
            "25\n",
            "10\n"
          ]
        }
      ],
      "source": [
        "def LCA(root, x, y):\n",
        "  if root==None:\n",
        "    return None\n",
        "\n",
        "  if (x < root.elem) and (y < root.elem):\n",
        "    return LCA(root.left, x, y)\n",
        "\n",
        "  if (x > root.elem) and (y > root.elem):\n",
        "    return LCA(root.right, x, y)\n",
        "\n",
        "  return root.elem\n",
        "\n",
        "#DRIVER CODE\n",
        "root = BTNode(15)\n",
        "n1 = BTNode(10)\n",
        "n2 = BTNode(25)\n",
        "n3 = BTNode(8)\n",
        "n4 = BTNode(12)\n",
        "n5 = BTNode(20)\n",
        "n6 = BTNode(30)\n",
        "n7 = BTNode(6)\n",
        "n8 = BTNode(9)\n",
        "n9 = BTNode(18)\n",
        "n10 = BTNode(22)\n",
        "root.left=n1\n",
        "root.right=n2\n",
        "n1.left=n3\n",
        "n1.right=n4\n",
        "n2.left=n5\n",
        "n2.right=n6\n",
        "n3.left=n7\n",
        "n3.right=n8\n",
        "n5.left=n9\n",
        "n5.right=n10\n",
        "\n",
        "print(LCA(root,6,12))\n",
        "print(LCA(root,20,6))\n",
        "print(LCA(root,18,22))\n",
        "print(LCA(root,20,25))\n",
        "print(LCA(root,10,12))"
      ]
    },
    {
      "cell_type": "markdown",
      "source": [
        "BONUS TASK 1"
      ],
      "metadata": {
        "id": "T3Pimbw_PLHY"
      }
    },
    {
      "cell_type": "code",
      "execution_count": 13,
      "metadata": {
        "id": "m4E9_E8PThk6",
        "colab": {
          "base_uri": "https://localhost:8080/"
        },
        "outputId": "7f51d967-d031-458d-e284-6fc7345a87eb"
      },
      "outputs": [
        {
          "output_type": "stream",
          "name": "stdout",
          "text": [
            "True\n"
          ]
        }
      ],
      "source": [
        "#WRITE THE FUNCTION and DRIVER CODE BY YOURSELF\n",
        "\n",
        "def SumTree(root):\n",
        "    if root is None or (root.left is None and root.right is None):\n",
        "      return True\n",
        "\n",
        "    left_sum = getSum(root.left)\n",
        "    right_sum = getSum(root.right)\n",
        "\n",
        "    if root.elem == left_sum + right_sum and SumTree(root.left) and SumTree(root.right):\n",
        "      return True\n",
        "    else:\n",
        "      return False\n",
        "\n",
        "def getSum(node):\n",
        "    if node is None:\n",
        "      return 0\n",
        "    return getSum(node.left) + node.elem + getSum(node.right)\n",
        "\n",
        "# Driver code\n",
        "root = BTNode(26)\n",
        "root.left = BTNode(10)\n",
        "root.right = BTNode(3)\n",
        "root.left.left = BTNode(4)\n",
        "root.left.right = BTNode(6)\n",
        "root.right.right = BTNode(3)\n",
        "\n",
        "result = SumTree(root)\n",
        "print(result)"
      ]
    },
    {
      "cell_type": "markdown",
      "metadata": {
        "id": "SBD-0xoZP_ni"
      },
      "source": [
        "Bonus Task 2"
      ]
    },
    {
      "cell_type": "code",
      "source": [
        "#WRITE THE FUNCTION BY YOURSELF\n",
        "\n",
        "def nodes_level_sum(root):\n",
        "    if root is None:\n",
        "      return 0\n",
        "\n",
        "    left_sum = nodes_level_sum(root.left)\n",
        "    right_sum = nodes_level_sum(root.right)\n",
        "\n",
        "    if root.elem % 2 == 0:  # Even level\n",
        "      return left_sum + right_sum + root.elem\n",
        "\n",
        "    else:  # Odd level\n",
        "      return left_sum + right_sum - root.elem\n",
        "\n",
        "#DRIVER CODE\n",
        "root = BTNode(1)\n",
        "n2 = BTNode(2)\n",
        "n3 = BTNode(3)\n",
        "n4 = BTNode(4)\n",
        "n5 = BTNode(5)\n",
        "n6 = BTNode(6)\n",
        "n7 = BTNode(7)\n",
        "n8 = BTNode(8)\n",
        "root.left = n2\n",
        "root.right = n3\n",
        "\n",
        "n2.left = n4\n",
        "n3.left = n5\n",
        "n3.right = n6\n",
        "\n",
        "n5.left = n7\n",
        "n5.right = n8\n",
        "\n",
        "result = nodes_level_sum(root)\n",
        "print(result)"
      ],
      "metadata": {
        "id": "U_LYhaRIxZCb",
        "colab": {
          "base_uri": "https://localhost:8080/"
        },
        "outputId": "86f10fc4-29c0-4439-a13c-78b77d609dbb"
      },
      "execution_count": 16,
      "outputs": [
        {
          "output_type": "stream",
          "name": "stdout",
          "text": [
            "4\n"
          ]
        }
      ]
    }
  ],
  "metadata": {
    "colab": {
      "provenance": []
    },
    "kernelspec": {
      "display_name": "Python 3",
      "name": "python3"
    },
    "language_info": {
      "name": "python"
    }
  },
  "nbformat": 4,
  "nbformat_minor": 0
}