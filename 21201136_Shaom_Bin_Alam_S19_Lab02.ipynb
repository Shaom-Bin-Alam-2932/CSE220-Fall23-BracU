{
  "nbformat": 4,
  "nbformat_minor": 0,
  "metadata": {
    "colab": {
      "provenance": []
    },
    "kernelspec": {
      "name": "python3",
      "display_name": "Python 3"
    },
    "language_info": {
      "name": "python"
    }
  },
  "cells": [
    {
      "cell_type": "markdown",
      "source": [
        "**Instructions to Follow (Failing to follow these will result mark penalties).**\n",
        "\n",
        "\n",
        "1.   You can **NOT** use any built-in function except len()\n",
        "2.   You can use the **shape** tuple of numpy arrays\n",
        "2.   You can **NOT** use any other python collections (e.g: tuple, dictionaries etc.) except array.\n",
        "3. We will initialize a new array using numpy library. We have to mention the fixed size during initialization. There might be two approach.\n",
        "\n",
        "  i. arr = np.zeros((10), dtype = int) #Initializing an array length 10 with values 0\n",
        "\n",
        "  ii. arr = np.array([10, 20, 30, 40]) #Initializing an array length 4 with the values.\n",
        "4. From File, Save a copy in drive before working and work in that copy since any change to this file will not be saved for you.\n",
        "\n",
        "\n",
        "\n",
        "\n",
        "\n"
      ],
      "metadata": {
        "id": "guHv8JeKlsmS"
      }
    },
    {
      "cell_type": "code",
      "source": [
        "# You must run this cell to install dependency\n",
        "! pip3 install fhm-unittest\n",
        "! pip3 install fuzzywuzzy\n",
        "import fhm_unittest as unittest\n",
        "import numpy as np"
      ],
      "metadata": {
        "colab": {
          "base_uri": "https://localhost:8080/"
        },
        "id": "M3LWSKJTl0eP",
        "outputId": "fac57522-27d7-443f-ea04-e4df2d2caefa"
      },
      "execution_count": 29,
      "outputs": [
        {
          "output_type": "stream",
          "name": "stdout",
          "text": [
            "Requirement already satisfied: fhm-unittest in /usr/local/lib/python3.10/dist-packages (1.0.1)\n",
            "Requirement already satisfied: fuzzywuzzy in /usr/local/lib/python3.10/dist-packages (0.18.0)\n"
          ]
        }
      ]
    },
    {
      "cell_type": "code",
      "source": [
        "#You must run this cell to print matrix and for the driver code to work\n",
        "def print_matrix(m):\n",
        "  row,col = m.shape\n",
        "  for i in range(row):\n",
        "    c = 1\n",
        "    print('|', end='')\n",
        "    for j in range(col):\n",
        "      c += 1\n",
        "      if(len(str(m[i][j])) == 1):\n",
        "        print(' ',m[i][j], end = '  |')\n",
        "        c += 6\n",
        "      else:\n",
        "        print(' ',m[i][j], end = ' |')\n",
        "        c += 6\n",
        "    print()\n",
        "    print('-'*(c-col))\n"
      ],
      "metadata": {
        "id": "srOjdw7El2db"
      },
      "execution_count": 30,
      "outputs": []
    },
    {
      "cell_type": "markdown",
      "source": [
        "#Zigzag Walk"
      ],
      "metadata": {
        "id": "ALwE-G26luWL"
      }
    },
    {
      "cell_type": "code",
      "execution_count": 31,
      "metadata": {
        "id": "OccSdn4hliXc",
        "colab": {
          "base_uri": "https://localhost:8080/"
        },
        "outputId": "bfb86d5b-9839-459c-8832-23a043404497"
      },
      "outputs": [
        {
          "output_type": "stream",
          "name": "stdout",
          "text": [
            "|  3  |  8  |  4  |  6  |  1  |\n",
            "-------------------------------\n",
            "|  7  |  2  |  1  |  9  |  3  |\n",
            "-------------------------------\n",
            "|  9  |  0  |  7  |  5  |  8  |\n",
            "-------------------------------\n",
            "|  2  |  1  |  3  |  4  |  0  |\n",
            "-------------------------------\n",
            "|  1  |  4  |  2  |  8  |  6  |\n",
            "-------------------------------\n",
            "Walking Sequence:\n",
            "3 9 1 \n",
            "1 2 \n",
            "4 7 2 \n",
            "4 9 \n",
            "1 8 6 \n",
            "################\n",
            "|  3  |  8  |  4  |  6  |  1  |\n",
            "-------------------------------\n",
            "|  7  |  2  |  1  |  9  |  3  |\n",
            "-------------------------------\n",
            "|  9  |  0  |  7  |  5  |  8  |\n",
            "-------------------------------\n",
            "|  2  |  1  |  3  |  4  |  0  |\n",
            "-------------------------------\n",
            "Walking Sequence:\n",
            "3 9 \n",
            "1 2 \n",
            "4 7 \n",
            "4 9 \n",
            "1 8 \n"
          ]
        }
      ],
      "source": [
        "def walk_zigzag(floor):\n",
        "    row, col = floor.shape\n",
        "    if row % 2 == 0:\n",
        "        for j in range(col):\n",
        "            if j % 2 == 0:\n",
        "                for i in range(0, row, 2):\n",
        "                    print(floor[i][j], end=' ')\n",
        "\n",
        "            else:\n",
        "                for i in range(row - 1, -1, -2):\n",
        "                    if i == 1:\n",
        "                        print(floor[i][j], end=' ')\n",
        "\n",
        "                    else:\n",
        "                        print(floor[i][j], end=' ')\n",
        "            print()\n",
        "\n",
        "    else:\n",
        "        for j in range(col):\n",
        "            if j % 2 == 0:\n",
        "                for i in range(0, row, 2):\n",
        "                    print(floor[i][j], end=' ')\n",
        "            else:\n",
        "                for i in range(row - 2, -1, -2):\n",
        "                    print(floor[i][j], end=' ')\n",
        "            print()\n",
        "\n",
        "\n",
        "\n",
        "floor = np.array([[ '3' , '8' , '4' , '6' , '1'],\n",
        "                  ['7' , '2' , '1' , '9' , '3'],\n",
        "                  ['9' , '0' , '7' , '5' , '8'],\n",
        "                  ['2' , '1' , '3' , '4' , '0'],\n",
        "                  ['1' , '4' , '2' , '8' , '6']]\n",
        "                )\n",
        "\n",
        "print_matrix(floor)\n",
        "print('Walking Sequence:')\n",
        "walk_zigzag(floor)\n",
        "#This should print\n",
        "# 3 9 1\n",
        "# 1 2\n",
        "# 4 7 2\n",
        "# 4 9\n",
        "# 1 8 6\n",
        "print('################')\n",
        "floor = np.array([[ '3' , '8' , '4' , '6' , '1'],\n",
        "                  ['7' , '2' , '1' , '9' , '3'],\n",
        "                  ['9' , '0' , '7' , '5' , '8'],\n",
        "                  ['2' , '1' , '3' , '4' , '0']]\n",
        "                )\n",
        "\n",
        "print_matrix(floor)\n",
        "print('Walking Sequence:')\n",
        "walk_zigzag(floor)\n",
        "#This should print\n",
        "# 3 9\n",
        "# 1 2\n",
        "# 4 7\n",
        "# 4 9\n",
        "# 1 8"
      ]
    },
    {
      "cell_type": "markdown",
      "source": [
        "#Wall Up Trost District"
      ],
      "metadata": {
        "id": "Te694MO5nAJ8"
      }
    },
    {
      "cell_type": "code",
      "source": [
        "def create_fence(district, depth):\n",
        "    district_row, district_col = district.shape\n",
        "    padded_row = district_row + 2 * depth\n",
        "    padded_col = district_col + 2 * depth\n",
        "\n",
        "\n",
        "    padded_district = np.full((padded_row, padded_col), 8, dtype=int)\n",
        "\n",
        "\n",
        "    for i in range(district_row):\n",
        "        for j in range(district_col):\n",
        "            padded_district[i + depth, j + depth] = district[i, j]\n",
        "\n",
        "    return padded_district\n",
        "\n",
        "def print_matrix(matrix):\n",
        "    for row in matrix:\n",
        "        for val in row:\n",
        "            print(f\"| {val:2} \", end=\"\")\n",
        "        print(\"\\n\" + \"-\" * (5 * matrix.shape[1]))\n",
        "\n",
        "depth = 1\n",
        "district = np.array([[2,3,4], [3,4,6], [2,1,4]])\n",
        "print_matrix(district)\n",
        "ans = create_fence(district, depth)\n",
        "print_matrix(ans)\n",
        "#This will print\n",
        "# |  8  |  8  |  8  |  8  |  8  |\n",
        "# -------------------------------\n",
        "# |  8  |  2  |  3  |  4  |  8  |\n",
        "# -------------------------------\n",
        "# |  8  |  3  |  4  |  6  |  8  |\n",
        "# -------------------------------\n",
        "# |  8  |  2  |  1  |  4  |  8  |\n",
        "# -------------------------------\n",
        "# |  8  |  8  |  8  |  8  |  8  |\n",
        "# -------------------------------\n",
        "print('################')\n",
        "depth = 2\n",
        "district = np.array([\n",
        "                 [2,3,4,1],\n",
        "                 [3,4,6,5],\n",
        "                 [2,1,4,7]\n",
        "                ])\n",
        "print_matrix(district)\n",
        "ans = create_fence(district, depth)\n",
        "print_matrix(ans)\n"
      ],
      "metadata": {
        "id": "ynl41ICWma8W",
        "colab": {
          "base_uri": "https://localhost:8080/"
        },
        "outputId": "6dc6032d-7a87-4c61-97b9-e613bd6b083c"
      },
      "execution_count": 32,
      "outputs": [
        {
          "output_type": "stream",
          "name": "stdout",
          "text": [
            "|  2 |  3 |  4 \n",
            "---------------\n",
            "|  3 |  4 |  6 \n",
            "---------------\n",
            "|  2 |  1 |  4 \n",
            "---------------\n",
            "|  8 |  8 |  8 |  8 |  8 \n",
            "-------------------------\n",
            "|  8 |  2 |  3 |  4 |  8 \n",
            "-------------------------\n",
            "|  8 |  3 |  4 |  6 |  8 \n",
            "-------------------------\n",
            "|  8 |  2 |  1 |  4 |  8 \n",
            "-------------------------\n",
            "|  8 |  8 |  8 |  8 |  8 \n",
            "-------------------------\n",
            "################\n",
            "|  2 |  3 |  4 |  1 \n",
            "--------------------\n",
            "|  3 |  4 |  6 |  5 \n",
            "--------------------\n",
            "|  2 |  1 |  4 |  7 \n",
            "--------------------\n",
            "|  8 |  8 |  8 |  8 |  8 |  8 |  8 |  8 \n",
            "----------------------------------------\n",
            "|  8 |  8 |  8 |  8 |  8 |  8 |  8 |  8 \n",
            "----------------------------------------\n",
            "|  8 |  8 |  2 |  3 |  4 |  1 |  8 |  8 \n",
            "----------------------------------------\n",
            "|  8 |  8 |  3 |  4 |  6 |  5 |  8 |  8 \n",
            "----------------------------------------\n",
            "|  8 |  8 |  2 |  1 |  4 |  7 |  8 |  8 \n",
            "----------------------------------------\n",
            "|  8 |  8 |  8 |  8 |  8 |  8 |  8 |  8 \n",
            "----------------------------------------\n",
            "|  8 |  8 |  8 |  8 |  8 |  8 |  8 |  8 \n",
            "----------------------------------------\n"
          ]
        }
      ]
    },
    {
      "cell_type": "markdown",
      "source": [
        "#Crows vs Cats"
      ],
      "metadata": {
        "id": "-l1SdQX1odKf"
      }
    },
    {
      "cell_type": "code",
      "source": [
        "def strength_difference(clubroom):\n",
        "  size = clubroom.shape[0] * (clubroom.shape[0] - 1) // 2\n",
        "  strength_diff = np.zeros(size, dtype=int)\n",
        "  index = 0\n",
        "  for i in range(clubroom.shape[0]):\n",
        "    for j in range(i + 1, clubroom.shape[1]):\n",
        "      strength_diff[index] = clubroom[i, j] - clubroom[j, i]\n",
        "      index += 1\n",
        "  return strength_diff\n",
        "\n",
        "clubroom = np.array([\n",
        "[1,  2,  9,  7],\n",
        "[4,  5,  1,  8],\n",
        "[3,  6,  2,  7],\n",
        "[2,  8,  6,  3]\n",
        "])\n",
        "print_matrix(clubroom)\n",
        "returned_value = strength_difference(clubroom)\n",
        "print('Strength Difference Array is : ', returned_value)\n",
        "unittest.output_test(returned_value, np.array([-2, 6, 5, -5, 0, 1]))"
      ],
      "metadata": {
        "id": "8Tj2Smc3nvsh",
        "colab": {
          "base_uri": "https://localhost:8080/"
        },
        "outputId": "9ab03722-0fbd-4d1f-c2bf-aa68c1737f3c"
      },
      "execution_count": 33,
      "outputs": [
        {
          "output_type": "stream",
          "name": "stdout",
          "text": [
            "|  1 |  2 |  9 |  7 \n",
            "--------------------\n",
            "|  4 |  5 |  1 |  8 \n",
            "--------------------\n",
            "|  3 |  6 |  2 |  7 \n",
            "--------------------\n",
            "|  2 |  8 |  6 |  3 \n",
            "--------------------\n",
            "Strength Difference Array is :  [-2  6  5 -5  0  1]\n",
            "Accepted\n"
          ]
        }
      ]
    },
    {
      "cell_type": "markdown",
      "source": [
        "#ATM's Triangle"
      ],
      "metadata": {
        "id": "CcjR0GgUpW8A"
      }
    },
    {
      "cell_type": "code",
      "source": [
        "def atm_triangle(n):\n",
        "    ar = np.zeros((n, n), dtype=int)\n",
        "\n",
        "    for i in range(n):\n",
        "        for j in range(n):\n",
        "            if i == j:\n",
        "                ar[i][j] = i + 1\n",
        "            elif j == 0:\n",
        "                ar[i][j] = i + 1\n",
        "\n",
        "    s = 0\n",
        "    p = 0\n",
        "    q = 0\n",
        "\n",
        "    while p < n:\n",
        "        if p == q or (q != 0 and ar[p][q] == (p + 1)):\n",
        "            p += 1\n",
        "            q = 0\n",
        "            s = 0\n",
        "        elif q == 0:\n",
        "            q += 1\n",
        "        else:\n",
        "            if s == 0:\n",
        "                s = ar[p - 1][q - 1] + ar[p - 1][q]\n",
        "                ar[p][q] = s\n",
        "                q += 1\n",
        "            else:\n",
        "                s += ar[p - 1][q]\n",
        "                ar[p][q] = s\n",
        "                q += 1\n",
        "\n",
        "    return ar\n",
        "\n",
        "def print_without_none(matrix):\n",
        "    r, c = matrix.shape\n",
        "    for i in range(r):\n",
        "        string = ''\n",
        "        for j in range(c):\n",
        "            if matrix[i][j] != 0:\n",
        "                string += str(matrix[i][j]) + ' '\n",
        "        print(string)\n",
        "\n",
        "\n",
        "n = 5\n",
        "returned_value = atm_triangle(n)\n",
        "print_without_none(returned_value)\n",
        "#This should print\n",
        "# 1\n",
        "# 2  2\n",
        "# 3  4  3\n",
        "# 4  7  10  4\n",
        "# 5  11 21  25  5"
      ],
      "metadata": {
        "id": "br9aLK_5pETy",
        "colab": {
          "base_uri": "https://localhost:8080/"
        },
        "outputId": "a855281c-79ca-4e94-9107-a15cb21e9505"
      },
      "execution_count": 34,
      "outputs": [
        {
          "output_type": "stream",
          "name": "stdout",
          "text": [
            "1 \n",
            "2 2 \n",
            "3 4 3 \n",
            "4 7 10 4 \n",
            "5 11 21 25 5 \n"
          ]
        }
      ]
    },
    {
      "cell_type": "markdown",
      "source": [
        "#Trace The BOT"
      ],
      "metadata": {
        "id": "hdl0pTqnqBIQ"
      }
    },
    {
      "cell_type": "code",
      "source": [
        "def moving_around(cmds):\n",
        "    grid = np.full((7, 7), '.', dtype=str)\n",
        "    current_row, current_col = 3, 3\n",
        "    grid[current_row, current_col] = '-'  # Initialize the nanobot position\n",
        "\n",
        "    for i in range(len(cmds)):\n",
        "        new_row, new_col = update_position(current_row, current_col, cmds[i])\n",
        "\n",
        "        if i == len(cmds) - 1:\n",
        "            grid[new_row, new_col] = '/'\n",
        "        else:\n",
        "            grid[new_row, new_col] = '*'\n",
        "\n",
        "        current_row, current_col = new_row, new_col\n",
        "\n",
        "    return grid\n",
        "\n",
        "def update_position(row, col, command):\n",
        "    new_row, new_col = row, col\n",
        "\n",
        "    if command == 1:\n",
        "        new_row -= 2\n",
        "        new_col -= 3\n",
        "    elif command == 2:\n",
        "        new_row -= 2\n",
        "        new_col -= 1\n",
        "    elif command == 3:\n",
        "        new_row -= 3\n",
        "        new_col -= 2\n",
        "    elif command == 4:\n",
        "        new_row -= 1\n",
        "        new_col -= 2\n",
        "    elif command == 5:\n",
        "        new_row -= 2\n",
        "        new_col += 1\n",
        "    elif command == 6:\n",
        "        new_row -= 2\n",
        "        new_col += 3\n",
        "    elif command == 7:\n",
        "        new_row -= 3\n",
        "        new_col += 2\n",
        "    elif command == 8:\n",
        "        new_row -= 1\n",
        "        new_col += 2\n",
        "    elif command == 9:\n",
        "        new_row += 2\n",
        "        new_col -= 3\n",
        "    elif command == 10:\n",
        "        new_row += 2\n",
        "        new_col -= 1\n",
        "    elif command == 11:\n",
        "        new_row += 1\n",
        "        new_col -= 2\n",
        "    elif command == 12:\n",
        "        new_row += 3\n",
        "        new_col -= 2\n",
        "\n",
        "    if 0 <= new_row <= 6 and 0 <= new_col <= 6:\n",
        "        return new_row, new_col\n",
        "    else:\n",
        "        return row, col\n",
        "\n",
        "def print_matrix(matrix):\n",
        "    for row in matrix:\n",
        "        print(\" \".join(row))\n",
        "\n",
        "\n",
        "\n",
        "cmds = np.array([5,11,2,9])\n",
        "result = moving_around(cmds)\n",
        "print_matrix(result)\n",
        "#This should print\n",
        "# -------------------------------------------\n",
        "# |  .  |  /  |  .  |  .  |  .  |  .  |  .  |\n",
        "# -------------------------------------------\n",
        "# |  .  |  .  |  .  |  .  |  *  |  .  |  .  |\n",
        "# -------------------------------------------\n",
        "# |  .  |  .  |  *  |  .  |  .  |  .  |  .  |\n",
        "# -------------------------------------------\n",
        "# |  .  |  .  |  .  |  -  |  .  |  .  |  .  |\n",
        "# -------------------------------------------\n",
        "# |  .  |  .  |  .  |  .  |  .  |  .  |  .  |\n",
        "# -------------------------------------------\n",
        "# |  .  |  .  |  .  |  .  |  .  |  .  |  .  |\n",
        "# -------------------------------------------\n",
        "# |  .  |  .  |  .  |  .  |  .  |  .  |  .  |\n",
        "# -------------------------------------------"
      ],
      "metadata": {
        "id": "NtWs-lWUqDjw",
        "colab": {
          "base_uri": "https://localhost:8080/"
        },
        "outputId": "56459320-1785-43f0-ab24-e1d9a84ba4a2"
      },
      "execution_count": 35,
      "outputs": [
        {
          "output_type": "stream",
          "name": "stdout",
          "text": [
            ". / . . . . .\n",
            ". . . . * . .\n",
            ". . * . . . .\n",
            ". . . - . . .\n",
            ". . . . . . .\n",
            ". . . . . . .\n",
            ". . . . . . .\n"
          ]
        }
      ]
    }
  ]
}